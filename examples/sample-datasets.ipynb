{
 "nbformat": 4,
 "nbformat_minor": 2,
 "metadata": {
  "language_info": {
   "name": "python",
   "codemirror_mode": {
    "name": "ipython",
    "version": 3
   }
  },
  "orig_nbformat": 2,
  "file_extension": ".py",
  "mimetype": "text/x-python",
  "name": "python",
  "npconvert_exporter": "python",
  "pygments_lexer": "ipython3",
  "version": 3
 },
 "cells": [
  {
   "cell_type": "markdown",
   "execution_count": null,
   "metadata": {},
   "outputs": [],
   "source": [
    "## Samples available datasets"
   ]
  },
  {
   "cell_type": "code",
   "execution_count": 98,
   "metadata": {},
   "outputs": [],
   "source": [
    "from rdatasets import data, descr, summary"
   ]
  },
  {
   "cell_type": "code",
   "execution_count": 99,
   "metadata": {},
   "outputs": [
    {
     "data": {
      "text/html": "<div>\n<style scoped>\n    .dataframe tbody tr th:only-of-type {\n        vertical-align: middle;\n    }\n\n    .dataframe tbody tr th {\n        vertical-align: top;\n    }\n\n    .dataframe thead th {\n        text-align: right;\n    }\n</style>\n<table border=\"1\" class=\"dataframe\">\n  <thead>\n    <tr style=\"text-align: right;\">\n      <th></th>\n      <th>Package</th>\n      <th>Item</th>\n      <th>Title</th>\n      <th>Rows</th>\n      <th>Cols</th>\n      <th>n_binary</th>\n      <th>n_character</th>\n      <th>n_factor</th>\n      <th>n_logical</th>\n      <th>n_numeric</th>\n      <th>CSV</th>\n      <th>Doc</th>\n    </tr>\n  </thead>\n  <tbody>\n    <tr>\n      <th>0</th>\n      <td>boot</td>\n      <td>acme</td>\n      <td>Monthly Excess Returns</td>\n      <td>60</td>\n      <td>3</td>\n      <td>0</td>\n      <td>1</td>\n      <td>0</td>\n      <td>0</td>\n      <td>2</td>\n      <td>https://raw.github.com/vincentarelbundock/Rdat...</td>\n      <td>https://raw.github.com/vincentarelbundock/Rdat...</td>\n    </tr>\n    <tr>\n      <th>1</th>\n      <td>boot</td>\n      <td>aids</td>\n      <td>Delay in AIDS Reporting in England and Wales</td>\n      <td>570</td>\n      <td>6</td>\n      <td>1</td>\n      <td>0</td>\n      <td>0</td>\n      <td>0</td>\n      <td>6</td>\n      <td>https://raw.github.com/vincentarelbundock/Rdat...</td>\n      <td>https://raw.github.com/vincentarelbundock/Rdat...</td>\n    </tr>\n    <tr>\n      <th>2</th>\n      <td>boot</td>\n      <td>aircondit</td>\n      <td>Failures of Air-conditioning Equipment</td>\n      <td>12</td>\n      <td>1</td>\n      <td>0</td>\n      <td>0</td>\n      <td>0</td>\n      <td>0</td>\n      <td>1</td>\n      <td>https://raw.github.com/vincentarelbundock/Rdat...</td>\n      <td>https://raw.github.com/vincentarelbundock/Rdat...</td>\n    </tr>\n    <tr>\n      <th>3</th>\n      <td>boot</td>\n      <td>aircondit7</td>\n      <td>Failures of Air-conditioning Equipment</td>\n      <td>24</td>\n      <td>1</td>\n      <td>0</td>\n      <td>0</td>\n      <td>0</td>\n      <td>0</td>\n      <td>1</td>\n      <td>https://raw.github.com/vincentarelbundock/Rdat...</td>\n      <td>https://raw.github.com/vincentarelbundock/Rdat...</td>\n    </tr>\n    <tr>\n      <th>4</th>\n      <td>boot</td>\n      <td>amis</td>\n      <td>Car Speeding and Warning Signs</td>\n      <td>8437</td>\n      <td>4</td>\n      <td>1</td>\n      <td>0</td>\n      <td>0</td>\n      <td>0</td>\n      <td>4</td>\n      <td>https://raw.github.com/vincentarelbundock/Rdat...</td>\n      <td>https://raw.github.com/vincentarelbundock/Rdat...</td>\n    </tr>\n  </tbody>\n</table>\n</div>",
      "text/plain": "  Package        Item                                         Title  Rows  \\\n0    boot        acme                        Monthly Excess Returns    60   \n1    boot        aids  Delay in AIDS Reporting in England and Wales   570   \n2    boot   aircondit        Failures of Air-conditioning Equipment    12   \n3    boot  aircondit7        Failures of Air-conditioning Equipment    24   \n4    boot        amis                Car Speeding and Warning Signs  8437   \n\n   Cols  n_binary  n_character  n_factor  n_logical  n_numeric  \\\n0     3         0            1         0          0          2   \n1     6         1            0         0          0          6   \n2     1         0            0         0          0          1   \n3     1         0            0         0          0          1   \n4     4         1            0         0          0          4   \n\n                                                 CSV  \\\n0  https://raw.github.com/vincentarelbundock/Rdat...   \n1  https://raw.github.com/vincentarelbundock/Rdat...   \n2  https://raw.github.com/vincentarelbundock/Rdat...   \n3  https://raw.github.com/vincentarelbundock/Rdat...   \n4  https://raw.github.com/vincentarelbundock/Rdat...   \n\n                                                 Doc  \n0  https://raw.github.com/vincentarelbundock/Rdat...  \n1  https://raw.github.com/vincentarelbundock/Rdat...  \n2  https://raw.github.com/vincentarelbundock/Rdat...  \n3  https://raw.github.com/vincentarelbundock/Rdat...  \n4  https://raw.github.com/vincentarelbundock/Rdat...  "
     },
     "execution_count": 99,
     "metadata": {},
     "output_type": "execute_result"
    }
   ],
   "source": [
    " df = summary()\n",
    "df.head()"
   ]
  },
  {
   "cell_type": "code",
   "execution_count": 100,
   "metadata": {},
   "outputs": [
    {
     "data": {
      "text/html": "<div>\n<style scoped>\n    .dataframe tbody tr th:only-of-type {\n        vertical-align: middle;\n    }\n\n    .dataframe tbody tr th {\n        vertical-align: top;\n    }\n\n    .dataframe thead th {\n        text-align: right;\n    }\n</style>\n<table border=\"1\" class=\"dataframe\">\n  <thead>\n    <tr style=\"text-align: right;\">\n      <th></th>\n      <th>Package</th>\n      <th>Item</th>\n      <th>Title</th>\n      <th>Rows</th>\n      <th>Cols</th>\n      <th>n_binary</th>\n      <th>n_character</th>\n      <th>n_factor</th>\n      <th>n_logical</th>\n      <th>n_numeric</th>\n      <th>CSV</th>\n      <th>Doc</th>\n    </tr>\n  </thead>\n  <tbody>\n    <tr>\n      <th>765</th>\n      <td>MASS</td>\n      <td>Boston</td>\n      <td>Housing Values in Suburbs of Boston</td>\n      <td>506</td>\n      <td>14</td>\n      <td>1</td>\n      <td>0</td>\n      <td>0</td>\n      <td>0</td>\n      <td>14</td>\n      <td>https://raw.github.com/vincentarelbundock/Rdat...</td>\n      <td>https://raw.github.com/vincentarelbundock/Rdat...</td>\n    </tr>\n  </tbody>\n</table>\n</div>",
      "text/plain": "    Package    Item                                Title  Rows  Cols  \\\n765    MASS  Boston  Housing Values in Suburbs of Boston   506    14   \n\n     n_binary  n_character  n_factor  n_logical  n_numeric  \\\n765         1            0         0          0         14   \n\n                                                   CSV  \\\n765  https://raw.github.com/vincentarelbundock/Rdat...   \n\n                                                   Doc  \n765  https://raw.github.com/vincentarelbundock/Rdat...  "
     },
     "execution_count": 100,
     "metadata": {},
     "output_type": "execute_result"
    }
   ],
   "source": [
    " df.loc[df[\"Item\"] == \"Boston\"]"
   ]
  },
  {
   "cell_type": "code",
   "execution_count": 101,
   "metadata": {},
   "outputs": [
    {
     "data": {
      "text/html": "<div>\n<style scoped>\n    .dataframe tbody tr th:only-of-type {\n        vertical-align: middle;\n    }\n\n    .dataframe tbody tr th {\n        vertical-align: top;\n    }\n\n    .dataframe thead th {\n        text-align: right;\n    }\n</style>\n<table border=\"1\" class=\"dataframe\">\n  <thead>\n    <tr style=\"text-align: right;\">\n      <th></th>\n      <th>crim</th>\n      <th>zn</th>\n      <th>indus</th>\n      <th>chas</th>\n      <th>nox</th>\n      <th>rm</th>\n      <th>age</th>\n      <th>dis</th>\n      <th>rad</th>\n      <th>tax</th>\n      <th>ptratio</th>\n      <th>black</th>\n      <th>lstat</th>\n      <th>medv</th>\n    </tr>\n  </thead>\n  <tbody>\n    <tr>\n      <th>0</th>\n      <td>0.00632</td>\n      <td>18.0</td>\n      <td>2.31</td>\n      <td>0</td>\n      <td>0.538</td>\n      <td>6.575</td>\n      <td>65.2</td>\n      <td>4.0900</td>\n      <td>1</td>\n      <td>296</td>\n      <td>15.3</td>\n      <td>396.90</td>\n      <td>4.98</td>\n      <td>24.0</td>\n    </tr>\n    <tr>\n      <th>1</th>\n      <td>0.02731</td>\n      <td>0.0</td>\n      <td>7.07</td>\n      <td>0</td>\n      <td>0.469</td>\n      <td>6.421</td>\n      <td>78.9</td>\n      <td>4.9671</td>\n      <td>2</td>\n      <td>242</td>\n      <td>17.8</td>\n      <td>396.90</td>\n      <td>9.14</td>\n      <td>21.6</td>\n    </tr>\n    <tr>\n      <th>2</th>\n      <td>0.02729</td>\n      <td>0.0</td>\n      <td>7.07</td>\n      <td>0</td>\n      <td>0.469</td>\n      <td>7.185</td>\n      <td>61.1</td>\n      <td>4.9671</td>\n      <td>2</td>\n      <td>242</td>\n      <td>17.8</td>\n      <td>392.83</td>\n      <td>4.03</td>\n      <td>34.7</td>\n    </tr>\n    <tr>\n      <th>3</th>\n      <td>0.03237</td>\n      <td>0.0</td>\n      <td>2.18</td>\n      <td>0</td>\n      <td>0.458</td>\n      <td>6.998</td>\n      <td>45.8</td>\n      <td>6.0622</td>\n      <td>3</td>\n      <td>222</td>\n      <td>18.7</td>\n      <td>394.63</td>\n      <td>2.94</td>\n      <td>33.4</td>\n    </tr>\n    <tr>\n      <th>4</th>\n      <td>0.06905</td>\n      <td>0.0</td>\n      <td>2.18</td>\n      <td>0</td>\n      <td>0.458</td>\n      <td>7.147</td>\n      <td>54.2</td>\n      <td>6.0622</td>\n      <td>3</td>\n      <td>222</td>\n      <td>18.7</td>\n      <td>396.90</td>\n      <td>5.33</td>\n      <td>36.2</td>\n    </tr>\n  </tbody>\n</table>\n</div>",
      "text/plain": "      crim    zn  indus  chas    nox     rm   age     dis  rad  tax  ptratio  \\\n0  0.00632  18.0   2.31     0  0.538  6.575  65.2  4.0900    1  296     15.3   \n1  0.02731   0.0   7.07     0  0.469  6.421  78.9  4.9671    2  242     17.8   \n2  0.02729   0.0   7.07     0  0.469  7.185  61.1  4.9671    2  242     17.8   \n3  0.03237   0.0   2.18     0  0.458  6.998  45.8  6.0622    3  222     18.7   \n4  0.06905   0.0   2.18     0  0.458  7.147  54.2  6.0622    3  222     18.7   \n\n    black  lstat  medv  \n0  396.90   4.98  24.0  \n1  396.90   9.14  21.6  \n2  392.83   4.03  34.7  \n3  394.63   2.94  33.4  \n4  396.90   5.33  36.2  "
     },
     "execution_count": 101,
     "metadata": {},
     "output_type": "execute_result"
    }
   ],
   "source": [
    "boston = data(\"MASS\", \"Boston\")\n",
    "boston.head()"
   ]
  },
  {
   "cell_type": "code",
   "execution_count": 102,
   "metadata": {},
   "outputs": [
    {
     "data": {
      "text/html": "<div>\n<style scoped>\n    .dataframe tbody tr th:only-of-type {\n        vertical-align: middle;\n    }\n\n    .dataframe tbody tr th {\n        vertical-align: top;\n    }\n\n    .dataframe thead th {\n        text-align: right;\n    }\n</style>\n<table border=\"1\" class=\"dataframe\">\n  <thead>\n    <tr style=\"text-align: right;\">\n      <th></th>\n      <th>Package</th>\n      <th>Item</th>\n      <th>Title</th>\n      <th>Rows</th>\n      <th>Cols</th>\n      <th>n_binary</th>\n      <th>n_character</th>\n      <th>n_factor</th>\n      <th>n_logical</th>\n      <th>n_numeric</th>\n      <th>CSV</th>\n      <th>Doc</th>\n    </tr>\n  </thead>\n  <tbody>\n    <tr>\n      <th>470</th>\n      <td>Ecdat</td>\n      <td>Oil</td>\n      <td>Oil Investment</td>\n      <td>53</td>\n      <td>11</td>\n      <td>0</td>\n      <td>0</td>\n      <td>0</td>\n      <td>0</td>\n      <td>11</td>\n      <td>https://raw.github.com/vincentarelbundock/Rdat...</td>\n      <td>https://raw.github.com/vincentarelbundock/Rdat...</td>\n    </tr>\n  </tbody>\n</table>\n</div>",
      "text/plain": "    Package Item           Title  Rows  Cols  n_binary  n_character  n_factor  \\\n470   Ecdat  Oil  Oil Investment    53    11         0            0         0   \n\n     n_logical  n_numeric                                                CSV  \\\n470          0         11  https://raw.github.com/vincentarelbundock/Rdat...   \n\n                                                   Doc  \n470  https://raw.github.com/vincentarelbundock/Rdat...  "
     },
     "execution_count": 102,
     "metadata": {},
     "output_type": "execute_result"
    }
   ],
   "source": [
    " df.loc[df[\"Item\"] == \"Oil\"]"
   ]
  },
  {
   "cell_type": "code",
   "execution_count": 105,
   "metadata": {},
   "outputs": [
    {
     "data": {
      "text/html": "<div>\n<style scoped>\n    .dataframe tbody tr th:only-of-type {\n        vertical-align: middle;\n    }\n\n    .dataframe tbody tr th {\n        vertical-align: top;\n    }\n\n    .dataframe thead th {\n        text-align: right;\n    }\n</style>\n<table border=\"1\" class=\"dataframe\">\n  <thead>\n    <tr style=\"text-align: right;\">\n      <th></th>\n      <th>dur</th>\n      <th>size</th>\n      <th>waterd</th>\n      <th>gasres</th>\n      <th>operator</th>\n      <th>p</th>\n      <th>vardp</th>\n      <th>p97</th>\n      <th>varp97</th>\n      <th>p98</th>\n      <th>varp98</th>\n    </tr>\n  </thead>\n  <tbody>\n    <tr>\n      <th>0</th>\n      <td>86</td>\n      <td>235</td>\n      <td>126</td>\n      <td>1140</td>\n      <td>2576.0</td>\n      <td>2.1834</td>\n      <td>1.8700</td>\n      <td>2.0480</td>\n      <td>3.298</td>\n      <td>2.2091</td>\n      <td>3.905</td>\n    </tr>\n    <tr>\n      <th>1</th>\n      <td>227</td>\n      <td>105</td>\n      <td>91</td>\n      <td>0</td>\n      <td>16000.0</td>\n      <td>1.3894</td>\n      <td>2.4000</td>\n      <td>2.0047</td>\n      <td>4.622</td>\n      <td>2.0542</td>\n      <td>4.818</td>\n    </tr>\n    <tr>\n      <th>2</th>\n      <td>17</td>\n      <td>70</td>\n      <td>76</td>\n      <td>0</td>\n      <td>584.0</td>\n      <td>0.9321</td>\n      <td>0.0070</td>\n      <td>0.9076</td>\n      <td>0.178</td>\n      <td>0.9056</td>\n      <td>0.179</td>\n    </tr>\n    <tr>\n      <th>3</th>\n      <td>12</td>\n      <td>96</td>\n      <td>85</td>\n      <td>0</td>\n      <td>16175.0</td>\n      <td>0.9893</td>\n      <td>0.0070</td>\n      <td>0.8993</td>\n      <td>0.150</td>\n      <td>0.8939</td>\n      <td>0.155</td>\n    </tr>\n    <tr>\n      <th>4</th>\n      <td>99</td>\n      <td>70</td>\n      <td>140</td>\n      <td>0</td>\n      <td>2445.0</td>\n      <td>2.2432</td>\n      <td>1.9576</td>\n      <td>2.0662</td>\n      <td>3.258</td>\n      <td>2.2089</td>\n      <td>3.833</td>\n    </tr>\n  </tbody>\n</table>\n</div>",
      "text/plain": "   dur  size  waterd  gasres  operator       p   vardp     p97  varp97  \\\n0   86   235     126    1140    2576.0  2.1834  1.8700  2.0480   3.298   \n1  227   105      91       0   16000.0  1.3894  2.4000  2.0047   4.622   \n2   17    70      76       0     584.0  0.9321  0.0070  0.9076   0.178   \n3   12    96      85       0   16175.0  0.9893  0.0070  0.8993   0.150   \n4   99    70     140       0    2445.0  2.2432  1.9576  2.0662   3.258   \n\n      p98  varp98  \n0  2.2091   3.905  \n1  2.0542   4.818  \n2  0.9056   0.179  \n3  0.8939   0.155  \n4  2.2089   3.833  "
     },
     "execution_count": 105,
     "metadata": {},
     "output_type": "execute_result"
    }
   ],
   "source": [
    "Oil = data(\"Ecdat\", \"Oil\")\n",
    "Oil.head()"
   ]
  },
  {
   "cell_type": "code",
   "execution_count": 106,
   "metadata": {},
   "outputs": [
    {
     "data": {
      "text/html": "<div>\n<style scoped>\n    .dataframe tbody tr th:only-of-type {\n        vertical-align: middle;\n    }\n\n    .dataframe tbody tr th {\n        vertical-align: top;\n    }\n\n    .dataframe thead th {\n        text-align: right;\n    }\n</style>\n<table border=\"1\" class=\"dataframe\">\n  <thead>\n    <tr style=\"text-align: right;\">\n      <th></th>\n      <th>Package</th>\n      <th>Item</th>\n      <th>Title</th>\n      <th>Rows</th>\n      <th>Cols</th>\n      <th>n_binary</th>\n      <th>n_character</th>\n      <th>n_factor</th>\n      <th>n_logical</th>\n      <th>n_numeric</th>\n      <th>CSV</th>\n      <th>Doc</th>\n    </tr>\n  </thead>\n  <tbody>\n    <tr>\n      <th>383</th>\n      <td>Ecdat</td>\n      <td>Airline</td>\n      <td>Cost for U.S. Airlines</td>\n      <td>90</td>\n      <td>6</td>\n      <td>0</td>\n      <td>0</td>\n      <td>0</td>\n      <td>0</td>\n      <td>6</td>\n      <td>https://raw.github.com/vincentarelbundock/Rdat...</td>\n      <td>https://raw.github.com/vincentarelbundock/Rdat...</td>\n    </tr>\n  </tbody>\n</table>\n</div>",
      "text/plain": "    Package     Item                   Title  Rows  Cols  n_binary  \\\n383   Ecdat  Airline  Cost for U.S. Airlines    90     6         0   \n\n     n_character  n_factor  n_logical  n_numeric  \\\n383            0         0          0          6   \n\n                                                   CSV  \\\n383  https://raw.github.com/vincentarelbundock/Rdat...   \n\n                                                   Doc  \n383  https://raw.github.com/vincentarelbundock/Rdat...  "
     },
     "execution_count": 106,
     "metadata": {},
     "output_type": "execute_result"
    }
   ],
   "source": [
    " df.loc[df[\"Item\"] == \"Airline\"]"
   ]
  },
  {
   "cell_type": "code",
   "execution_count": 107,
   "metadata": {},
   "outputs": [
    {
     "data": {
      "text/html": "<div>\n<style scoped>\n    .dataframe tbody tr th:only-of-type {\n        vertical-align: middle;\n    }\n\n    .dataframe tbody tr th {\n        vertical-align: top;\n    }\n\n    .dataframe thead th {\n        text-align: right;\n    }\n</style>\n<table border=\"1\" class=\"dataframe\">\n  <thead>\n    <tr style=\"text-align: right;\">\n      <th></th>\n      <th>airline</th>\n      <th>year</th>\n      <th>cost</th>\n      <th>output</th>\n      <th>pf</th>\n      <th>lf</th>\n    </tr>\n  </thead>\n  <tbody>\n    <tr>\n      <th>0</th>\n      <td>1</td>\n      <td>1</td>\n      <td>1140640</td>\n      <td>0.952757</td>\n      <td>106650</td>\n      <td>0.534487</td>\n    </tr>\n    <tr>\n      <th>1</th>\n      <td>1</td>\n      <td>2</td>\n      <td>1215690</td>\n      <td>0.986757</td>\n      <td>110307</td>\n      <td>0.532328</td>\n    </tr>\n    <tr>\n      <th>2</th>\n      <td>1</td>\n      <td>3</td>\n      <td>1309570</td>\n      <td>1.091980</td>\n      <td>110574</td>\n      <td>0.547736</td>\n    </tr>\n    <tr>\n      <th>3</th>\n      <td>1</td>\n      <td>4</td>\n      <td>1511530</td>\n      <td>1.175780</td>\n      <td>121974</td>\n      <td>0.540846</td>\n    </tr>\n    <tr>\n      <th>4</th>\n      <td>1</td>\n      <td>5</td>\n      <td>1676730</td>\n      <td>1.160170</td>\n      <td>196606</td>\n      <td>0.591167</td>\n    </tr>\n  </tbody>\n</table>\n</div>",
      "text/plain": "   airline  year     cost    output      pf        lf\n0        1     1  1140640  0.952757  106650  0.534487\n1        1     2  1215690  0.986757  110307  0.532328\n2        1     3  1309570  1.091980  110574  0.547736\n3        1     4  1511530  1.175780  121974  0.540846\n4        1     5  1676730  1.160170  196606  0.591167"
     },
     "execution_count": 107,
     "metadata": {},
     "output_type": "execute_result"
    }
   ],
   "source": [
    "Airline = data(\"Ecdat\", \"Airline\")\n",
    "Airline.head()"
   ]
  },
  {
   "cell_type": "code",
   "execution_count": 108,
   "metadata": {},
   "outputs": [
    {
     "data": {
      "text/html": "<div>\n<style scoped>\n    .dataframe tbody tr th:only-of-type {\n        vertical-align: middle;\n    }\n\n    .dataframe tbody tr th {\n        vertical-align: top;\n    }\n\n    .dataframe thead th {\n        text-align: right;\n    }\n</style>\n<table border=\"1\" class=\"dataframe\">\n  <thead>\n    <tr style=\"text-align: right;\">\n      <th></th>\n      <th>Package</th>\n      <th>Item</th>\n      <th>Title</th>\n      <th>Rows</th>\n      <th>Cols</th>\n      <th>n_binary</th>\n      <th>n_character</th>\n      <th>n_factor</th>\n      <th>n_logical</th>\n      <th>n_numeric</th>\n      <th>CSV</th>\n      <th>Doc</th>\n    </tr>\n  </thead>\n  <tbody>\n    <tr>\n      <th>432</th>\n      <td>Ecdat</td>\n      <td>Housing</td>\n      <td>Sales Prices of Houses in the City of Windsor</td>\n      <td>546</td>\n      <td>12</td>\n      <td>6</td>\n      <td>0</td>\n      <td>6</td>\n      <td>0</td>\n      <td>6</td>\n      <td>https://raw.github.com/vincentarelbundock/Rdat...</td>\n      <td>https://raw.github.com/vincentarelbundock/Rdat...</td>\n    </tr>\n  </tbody>\n</table>\n</div>",
      "text/plain": "    Package     Item                                          Title  Rows  \\\n432   Ecdat  Housing  Sales Prices of Houses in the City of Windsor   546   \n\n     Cols  n_binary  n_character  n_factor  n_logical  n_numeric  \\\n432    12         6            0         6          0          6   \n\n                                                   CSV  \\\n432  https://raw.github.com/vincentarelbundock/Rdat...   \n\n                                                   Doc  \n432  https://raw.github.com/vincentarelbundock/Rdat...  "
     },
     "execution_count": 108,
     "metadata": {},
     "output_type": "execute_result"
    }
   ],
   "source": [
    " df.loc[df[\"Item\"] == \"Housing\"]"
   ]
  },
  {
   "cell_type": "code",
   "execution_count": 109,
   "metadata": {},
   "outputs": [
    {
     "data": {
      "text/html": "<div>\n<style scoped>\n    .dataframe tbody tr th:only-of-type {\n        vertical-align: middle;\n    }\n\n    .dataframe tbody tr th {\n        vertical-align: top;\n    }\n\n    .dataframe thead th {\n        text-align: right;\n    }\n</style>\n<table border=\"1\" class=\"dataframe\">\n  <thead>\n    <tr style=\"text-align: right;\">\n      <th></th>\n      <th>price</th>\n      <th>lotsize</th>\n      <th>bedrooms</th>\n      <th>bathrms</th>\n      <th>stories</th>\n      <th>driveway</th>\n      <th>recroom</th>\n      <th>fullbase</th>\n      <th>gashw</th>\n      <th>airco</th>\n      <th>garagepl</th>\n      <th>prefarea</th>\n    </tr>\n  </thead>\n  <tbody>\n    <tr>\n      <th>0</th>\n      <td>42000.0</td>\n      <td>5850</td>\n      <td>3</td>\n      <td>1</td>\n      <td>2</td>\n      <td>yes</td>\n      <td>no</td>\n      <td>yes</td>\n      <td>no</td>\n      <td>no</td>\n      <td>1</td>\n      <td>no</td>\n    </tr>\n    <tr>\n      <th>1</th>\n      <td>38500.0</td>\n      <td>4000</td>\n      <td>2</td>\n      <td>1</td>\n      <td>1</td>\n      <td>yes</td>\n      <td>no</td>\n      <td>no</td>\n      <td>no</td>\n      <td>no</td>\n      <td>0</td>\n      <td>no</td>\n    </tr>\n    <tr>\n      <th>2</th>\n      <td>49500.0</td>\n      <td>3060</td>\n      <td>3</td>\n      <td>1</td>\n      <td>1</td>\n      <td>yes</td>\n      <td>no</td>\n      <td>no</td>\n      <td>no</td>\n      <td>no</td>\n      <td>0</td>\n      <td>no</td>\n    </tr>\n    <tr>\n      <th>3</th>\n      <td>60500.0</td>\n      <td>6650</td>\n      <td>3</td>\n      <td>1</td>\n      <td>2</td>\n      <td>yes</td>\n      <td>yes</td>\n      <td>no</td>\n      <td>no</td>\n      <td>no</td>\n      <td>0</td>\n      <td>no</td>\n    </tr>\n    <tr>\n      <th>4</th>\n      <td>61000.0</td>\n      <td>6360</td>\n      <td>2</td>\n      <td>1</td>\n      <td>1</td>\n      <td>yes</td>\n      <td>no</td>\n      <td>no</td>\n      <td>no</td>\n      <td>no</td>\n      <td>0</td>\n      <td>no</td>\n    </tr>\n  </tbody>\n</table>\n</div>",
      "text/plain": "     price  lotsize  bedrooms  bathrms  stories driveway recroom fullbase  \\\n0  42000.0     5850         3        1        2      yes      no      yes   \n1  38500.0     4000         2        1        1      yes      no       no   \n2  49500.0     3060         3        1        1      yes      no       no   \n3  60500.0     6650         3        1        2      yes     yes       no   \n4  61000.0     6360         2        1        1      yes      no       no   \n\n  gashw airco  garagepl prefarea  \n0    no    no         1       no  \n1    no    no         0       no  \n2    no    no         0       no  \n3    no    no         0       no  \n4    no    no         0       no  "
     },
     "execution_count": 109,
     "metadata": {},
     "output_type": "execute_result"
    }
   ],
   "source": [
    "Housing = data(\"Ecdat\", \"Housing\")\n",
    "Housing.head()"
   ]
  },
  {
   "cell_type": "code",
   "execution_count": 110,
   "metadata": {},
   "outputs": [
    {
     "data": {
      "text/html": "<div>\n<style scoped>\n    .dataframe tbody tr th:only-of-type {\n        vertical-align: middle;\n    }\n\n    .dataframe tbody tr th {\n        vertical-align: top;\n    }\n\n    .dataframe thead th {\n        text-align: right;\n    }\n</style>\n<table border=\"1\" class=\"dataframe\">\n  <thead>\n    <tr style=\"text-align: right;\">\n      <th></th>\n      <th>Package</th>\n      <th>Item</th>\n      <th>Title</th>\n      <th>Rows</th>\n      <th>Cols</th>\n      <th>n_binary</th>\n      <th>n_character</th>\n      <th>n_factor</th>\n      <th>n_logical</th>\n      <th>n_numeric</th>\n      <th>CSV</th>\n      <th>Doc</th>\n    </tr>\n  </thead>\n  <tbody>\n    <tr>\n      <th>439</th>\n      <td>Ecdat</td>\n      <td>Journals</td>\n      <td>Economic Journals Dat Set</td>\n      <td>180</td>\n      <td>10</td>\n      <td>1</td>\n      <td>0</td>\n      <td>4</td>\n      <td>0</td>\n      <td>6</td>\n      <td>https://raw.github.com/vincentarelbundock/Rdat...</td>\n      <td>https://raw.github.com/vincentarelbundock/Rdat...</td>\n    </tr>\n  </tbody>\n</table>\n</div>",
      "text/plain": "    Package      Item                      Title  Rows  Cols  n_binary  \\\n439   Ecdat  Journals  Economic Journals Dat Set   180    10         1   \n\n     n_character  n_factor  n_logical  n_numeric  \\\n439            0         4          0          6   \n\n                                                   CSV  \\\n439  https://raw.github.com/vincentarelbundock/Rdat...   \n\n                                                   Doc  \n439  https://raw.github.com/vincentarelbundock/Rdat...  "
     },
     "execution_count": 110,
     "metadata": {},
     "output_type": "execute_result"
    }
   ],
   "source": [
    " df.loc[df[\"Item\"] == \"Journals\"]"
   ]
  },
  {
   "cell_type": "code",
   "execution_count": 111,
   "metadata": {},
   "outputs": [
    {
     "data": {
      "text/html": "<div>\n<style scoped>\n    .dataframe tbody tr th:only-of-type {\n        vertical-align: middle;\n    }\n\n    .dataframe tbody tr th {\n        vertical-align: top;\n    }\n\n    .dataframe thead th {\n        text-align: right;\n    }\n</style>\n<table border=\"1\" class=\"dataframe\">\n  <thead>\n    <tr style=\"text-align: right;\">\n      <th></th>\n      <th>title</th>\n      <th>pub</th>\n      <th>society</th>\n      <th>libprice</th>\n      <th>pages</th>\n      <th>charpp</th>\n      <th>citestot</th>\n      <th>date1</th>\n      <th>oclc</th>\n      <th>field</th>\n    </tr>\n  </thead>\n  <tbody>\n    <tr>\n      <th>0</th>\n      <td>Asian-Pacific Economic Literature</td>\n      <td>Blackwell</td>\n      <td>no</td>\n      <td>123</td>\n      <td>440</td>\n      <td>3822</td>\n      <td>21</td>\n      <td>1986</td>\n      <td>14</td>\n      <td>General</td>\n    </tr>\n    <tr>\n      <th>1</th>\n      <td>South African Journal of Economic History</td>\n      <td>So Afr ec history assn</td>\n      <td>no</td>\n      <td>20</td>\n      <td>309</td>\n      <td>1782</td>\n      <td>22</td>\n      <td>1986</td>\n      <td>59</td>\n      <td>Ec History</td>\n    </tr>\n    <tr>\n      <th>2</th>\n      <td>Computational Economics</td>\n      <td>Kluwer</td>\n      <td>no</td>\n      <td>443</td>\n      <td>567</td>\n      <td>2924</td>\n      <td>22</td>\n      <td>1987</td>\n      <td>17</td>\n      <td>Specialized</td>\n    </tr>\n    <tr>\n      <th>3</th>\n      <td>MOCT-MOST Economic Policy in Transitional Econ...</td>\n      <td>Kluwer</td>\n      <td>no</td>\n      <td>276</td>\n      <td>520</td>\n      <td>3234</td>\n      <td>22</td>\n      <td>1991</td>\n      <td>2</td>\n      <td>Area Studies</td>\n    </tr>\n    <tr>\n      <th>4</th>\n      <td>Journal of Socio-Economics</td>\n      <td>Elsevier</td>\n      <td>no</td>\n      <td>295</td>\n      <td>791</td>\n      <td>3024</td>\n      <td>24</td>\n      <td>1972</td>\n      <td>96</td>\n      <td>Interdisciplinary</td>\n    </tr>\n  </tbody>\n</table>\n</div>",
      "text/plain": "                                               title                     pub  \\\n0                  Asian-Pacific Economic Literature               Blackwell   \n1          South African Journal of Economic History  So Afr ec history assn   \n2                            Computational Economics                  Kluwer   \n3  MOCT-MOST Economic Policy in Transitional Econ...                  Kluwer   \n4                         Journal of Socio-Economics                Elsevier   \n\n  society  libprice  pages  charpp  citestot  date1  oclc              field  \n0      no       123    440    3822        21   1986    14            General  \n1      no        20    309    1782        22   1986    59         Ec History  \n2      no       443    567    2924        22   1987    17        Specialized  \n3      no       276    520    3234        22   1991     2       Area Studies  \n4      no       295    791    3024        24   1972    96  Interdisciplinary  "
     },
     "execution_count": 111,
     "metadata": {},
     "output_type": "execute_result"
    }
   ],
   "source": [
    "Journals = data(\"Ecdat\", \"Journals\")\n",
    "Journals.head()"
   ]
  }
 ]
}
